{
 "cells": [
  {
   "cell_type": "markdown",
   "metadata": {},
   "source": [
    "# Week 2 handin"
   ]
  },
  {
   "cell_type": "markdown",
   "metadata": {},
   "source": [
    "## 01 Assignment\n",
    "\n",
    "\n",
    "## Exercise 1\n",
    "1. Create a python file with 3 functions:\n",
    "  1. `def print_file_content(file)` that can print content of a csv file to the console\n",
    "  2. `def write_list_to_file(output_file, lst)` that can take a list of tuple and write each element to a new line in file\n",
    "    1. rewrite the function so that it gets an arbitrary number of strings instead of a list\n",
    "  3. `def read_csv(input_file)` that take a csv file and read each row into a list\n",
    "2. Add a functionality so that the file can be called from cli with 2 arguments\n",
    "  1. path to csv file\n",
    "  2. an argument `--file file_name` that if given will write the content to file_name or otherwise will print it to the console.\n",
    "3. Add a --help cli argument to describe how the module is used  \n",
    "\n",
    "## Exercise 2\n",
    "Create a module called utils.py with the following 5 functions:\n",
    "\n",
    "```python\n",
    "def get_file_names(folderpath,out=output.txt):\n",
    "    \"\"\" takes a path to a folder and writes all filenames in the folder to a specified output file\"\"\"\n",
    "\n",
    "def get_all_file_names(folderpath,out=output.txt):\n",
    "    \"\"\"takes a path to a folder and write all filenames recursively (files of all sub folders to)\"\"\"\n",
    "\n",
    "def print_line_one(file_names):\n",
    "    \"\"\"takes a list of filenames and print the first line of each\"\"\"\n",
    "\n",
    "def print_emails(file_names):\n",
    "    \"\"\"takes a list of filenames and print each line that contains an email (just look for @)\"\"\"\n",
    "\n",
    "def write_headlines(md_files, out=output.txt):\n",
    "    \"\"\"takes a list of md files and writes all headlines (lines starting with #) to a file\"\"\"\n",
    "\n",
    "```\n",
    "Make sure your module can be called both from cli and imported to another module\n",
    "Create a new module that imports utils.py and test each function."
   ]
  },
  {
   "cell_type": "markdown",
   "metadata": {},
   "source": [
    "## 02 Status\n",
    "    Exercise 1.1  completed\n",
    "    Exercise 1.2  completed\n",
    "    Exercise 1.3  completed\n",
    "    Exercise 2    completed"
   ]
  },
  {
   "cell_type": "markdown",
   "metadata": {},
   "source": [
    "## 03 Solution part 1\n",
    "1. Create a python file with 3 functions:\n",
    "  1. `def print_file_content(file)` that can print content of a csv file to the console\n",
    "  2. `def write_list_to_file(output_file, lst)` that can take a list of tuple and write each element to a new line in file\n",
    "    1. rewrite the function so that it gets an arbitrary number of strings instead of a list\n",
    "  3. `def read_csv(input_file)` that take a csv file and read each row into a list"
   ]
  },
  {
   "cell_type": "code",
   "execution_count": 1,
   "metadata": {},
   "outputs": [],
   "source": [
    "import csv\n",
    "\n",
    "def print_file_content(file):\n",
    "    with open(file) as file1:\n",
    "        content = file1.read()\n",
    "    print(content)\n",
    "    \n",
    "def write_list_to_file(output_file, lst):\n",
    "    with open(output_file, 'w') as file2:\n",
    "        for tu in lst:\n",
    "            for e in tu:\n",
    "                file2.write(str(e)+'\\n')\n",
    "                \n",
    "def read_csv(input_file):\n",
    "    rows=[]\n",
    "    with open(input_file) as file3:\n",
    "        reader = csv.reader(file3)\n",
    "        for row in reader:\n",
    "            rows.append(row)   \n",
    "    return rows\n",
    "\n",
    "                            \n"
   ]
  },
  {
   "cell_type": "code",
   "execution_count": 48,
   "metadata": {},
   "outputs": [
    {
     "name": "stdout",
     "output_type": "stream",
     "text": [
      "1\n",
      "2\n",
      "a\n",
      "b\n",
      "3\n",
      "x\n",
      "\n",
      "['2011', 'A', 'Agriculture, Forestry and Fishing', 'a_0', 'Salaries and wages paid', '279', 'DOLLARS(millions)']\n"
     ]
    }
   ],
   "source": [
    "#testing functions:\n",
    "myList=[(1,2),(\"a\",\"b\"),(3,\"x\")]\n",
    "file = 'my_own_file.txt'\n",
    "csv_file=\"some_data.csv\"\n",
    "\n",
    "write_list_to_file(file,myList)\n",
    "print_file_content(file)\n",
    "arr=read_csv(csv_file)\n",
    "print(arr[3])"
   ]
  },
  {
   "cell_type": "markdown",
   "metadata": {},
   "source": [
    "## 04 Solution part 2\n",
    "2. Add a functionality so that the file can be called from cli with 2 arguments\n",
    "  1. path to csv file\n",
    "  2. an argument `--file file_name` that if given will write the content to file_name or otherwise will print it to the console."
   ]
  },
  {
   "cell_type": "code",
   "execution_count": 1,
   "metadata": {},
   "outputs": [
    {
     "name": "stderr",
     "output_type": "stream",
     "text": [
      "usage: ipykernel_launcher.py [-h] [--file FILE] path\n",
      "ipykernel_launcher.py: error: unrecognized arguments: -f\n"
     ]
    },
    {
     "ename": "SystemExit",
     "evalue": "2",
     "output_type": "error",
     "traceback": [
      "An exception has occurred, use %tb to see the full traceback.\n",
      "\u001b[0;31mSystemExit\u001b[0m\u001b[0;31m:\u001b[0m 2\n"
     ]
    },
    {
     "name": "stderr",
     "output_type": "stream",
     "text": [
      "/opt/conda/lib/python3.7/site-packages/IPython/core/interactiveshell.py:3339: UserWarning: To exit: use 'exit', 'quit', or Ctrl-D.\n",
      "  warn(\"To exit: use 'exit', 'quit', or Ctrl-D.\", stacklevel=1)\n"
     ]
    }
   ],
   "source": [
    "import argparse\n",
    "parser= argparse.ArgumentParser(description='A program that reads from / writes to a file')\n",
    "parser.add_argument('path', help='path to csv file')\n",
    "parser.add_argument(\"--file\",  help=\"file to write to\")\n",
    "\n",
    "args = parser.parse_args()\n",
    "given_csv=args.path\n",
    "given_file=args.file\n",
    "\n",
    "\n",
    "\n",
    "\n",
    "        \n",
    "        \n",
    "def read_given_csv(input_file, output_file):\n",
    "    rows=[]\n",
    "    with open(input_file) as file3:\n",
    "        reader = csv.reader(file3)\n",
    "        for row in reader:\n",
    "            rows.append(row)   \n",
    "        if(output_file==None):\n",
    "            print(rows)\n",
    "        else:\n",
    "            write_list_to_file(output_file,rows)\n",
    "    #return rows                    \n",
    "                    \n",
    "                    \n",
    "                    \n",
    "                    \n"
   ]
  },
  {
   "cell_type": "markdown",
   "metadata": {},
   "source": [
    "## 05 Solution part 3\n",
    "3. Add a --help argument to describe how the module is used  \n"
   ]
  },
  {
   "cell_type": "code",
   "execution_count": null,
   "metadata": {},
   "outputs": [],
   "source": [
    "# Already added in previous task"
   ]
  },
  {
   "cell_type": "markdown",
   "metadata": {},
   "source": [
    "## 05 Solution part 4\n",
    "Create a module called utils.py with the following 5 functions:\n",
    "\n",
    "```python\n",
    "def get_file_names(folderpath,out=output.txt):\n",
    "    \"\"\" takes a path to a folder and writes all filenames in the folder to a specified output file\"\"\"\n",
    "\n",
    "def get_all_file_names(folderpath,out=output.txt):\n",
    "    \"\"\"takes a path to a folder and write all filenames recursively (files of all sub folders to)\"\"\"\n",
    "\n",
    "def print_line_one(file_names):\n",
    "    \"\"\"takes a list of filenames and print the first line of each\"\"\"\n",
    "\n",
    "def print_emails(file_names):\n",
    "    \"\"\"takes a list of filenames and print each line that contains an email (just look for @)\"\"\"\n",
    "\n",
    "def write_headlines(md_files, out=output.txt):\n",
    "    \"\"\"takes a list of md files and writes all headlines (lines starting with #) to a file\"\"\"\n",
    "\n",
    "```\n",
    "Make sure your module can be called both from cli and imported to another module\n",
    "Create a new module that imports utils.py and test each function."
   ]
  },
  {
   "cell_type": "code",
   "execution_count": 23,
   "metadata": {
    "scrolled": true
   },
   "outputs": [
    {
     "name": "stdout",
     "output_type": "stream",
     "text": [
      "\n",
      "----------------------------\n",
      "\n",
      "folder pathh:  ./modules\n",
      "file_list:\n",
      "['demo_dir', 'output.txt', 'test_utils.py', 'utils.py', 'webget.py', '__init__.py', '__pycache__']\n",
      "Is dir ./modules/demo_dir\n",
      "folder pathh:  ./modules/demo_dir\n",
      "file_list:\n",
      "['demo1.txt', 'demo2.txt']\n",
      "Is dir ./modules/__pycache__\n",
      "folder pathh:  ./modules/__pycache__\n",
      "file_list:\n",
      "['utils.cpython-37.pyc', '__init__.cpython-37.pyc']\n",
      "\n",
      "----------------------------\n",
      "\n",
      "dsdsd\n",
      "./output.txt  is a file\n",
      "demo_dir\n",
      "\n",
      "\n",
      "----------------------------\n",
      "\n",
      "Donec pellentesque nunc tincidunt @blandit scelerisque. \n",
      "\n",
      " Donec at varius@augue.Nam euismod orci ac ante luctus, vel pellentesque\n",
      "\n",
      "  Duis scelerisque pretium@porttitor.Morbi arcu est, eleifend\n",
      "\n",
      "In mollis gravida lorem. @\n",
      "\n",
      "Ut ornare risus non erat fermentum viverra. @\n",
      "\n",
      "   Donec bibendum nec lorem eu finibus.@\n",
      "\n",
      "\n",
      "----------------------------\n",
      "\n",
      "# python Handin Template\n",
      "\n"
     ]
    }
   ],
   "source": [
    "from modules import utils as u\n",
    "u.get_file_names('./modules')\n",
    "print('\\n----------------------------\\n')\n",
    "u.get_all_file_names(\"./modules\")\n",
    "print('\\n----------------------------\\n')\n",
    "u.print_line_one(['./output.txt'])\n",
    "print('\\n----------------------------\\n')\n",
    "u.print_emails(['./modules/demo_dir/demo1.txt','./modules/demo_dir/demo2.txt'])\n",
    "print('\\n----------------------------\\n')\n",
    "u.write_headlines(['./README.md'],'./headlines.txt')"
   ]
  },
  {
   "cell_type": "code",
   "execution_count": null,
   "metadata": {},
   "outputs": [],
   "source": []
  }
 ],
 "metadata": {
  "kernelspec": {
   "display_name": "Python 3",
   "language": "python",
   "name": "python3"
  },
  "language_info": {
   "codemirror_mode": {
    "name": "ipython",
    "version": 3
   },
   "file_extension": ".py",
   "mimetype": "text/x-python",
   "name": "python",
   "nbconvert_exporter": "python",
   "pygments_lexer": "ipython3",
   "version": "3.7.6"
  }
 },
 "nbformat": 4,
 "nbformat_minor": 4
}
