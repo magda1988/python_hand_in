{
 "cells": [
  {
   "cell_type": "markdown",
   "metadata": {},
   "source": [
    "# Week 8 hand in"
   ]
  },
  {
   "cell_type": "markdown",
   "metadata": {},
   "source": [
    "## 01 Assignment\n",
    "\n",
    "\n",
    "##     Exercise 1\n",
    "    1. Go to this website: \n",
    "    https://www.komplett.dk/category/21064/mobil/mobiltelefoner\n",
    "    2. Use BeautifulSoup, to select the name and price for the cellphones (hint: look for class=\"product-price\" to begin with).\n",
    "    3. Create a mysql table called cellphones, with columns id, name, price.\n",
    "    4. Insert the cellphone data into the cellphones table, using a mysql connector and cursor.\n",
    "\n",
    "##     Exercise 2\n",
    "    1. Create a restful webservice that can respond to the following requests, by collecting/adding data from the cellphones table:\n",
    "    Method\tURL\tResponse\tDescription\n",
    "    GET\t/api/cellphones/all\t[{\"id\":1, \"name\":\"Samsung Galaxy S20\", \"price\":5999},{},{}...]\tReturns all the cellphone objects from the database\n",
    "    POST\t/api/cellphones\tPOST json: {\"name\":\"One Plus\", \"price\":12345}\tAdds a new cellphone object to the database\n",
    "\n",
    "##    Exercise 3\n",
    "    1. Select the data from the endpoints, using a request object.\n",
    "    2. Make a sorted bar chart of the cellphones, where x-axis is names, and y-axis is price."
   ]
  },
  {
   "cell_type": "markdown",
   "metadata": {},
   "source": [
    "## 02 Status\n",
    "    Ex1: \n",
    "        Task 1, 2, 3, 4: completed\n",
    "        \n",
    "        \n",
    "        \n",
    "    Ex2: \n",
    "        Task : completed\n",
    "        Task 1 : not completed\n",
    "        \n",
    "        \n",
    "    Ex2: \n",
    "        Task : completed\n",
    "        Task 1, 2 : not completed\n",
    "        \n",
    "        "
   ]
  },
  {
   "cell_type": "markdown",
   "metadata": {},
   "source": [
    "## 03 Solution part 1\n",
    "\n",
    "1. Go to this website: \n",
    "https://www.komplett.dk/category/21064/mobil/mobiltelefoner\n",
    "2. Use BeautifulSoup, to select the name and price for the cellphones (hint: look for class=\"product-price\" to begin with).\n",
    "3. Create a mysql table called cellphones, with columns id, name, price.\n",
    "4. Insert the cellphone data into the cellphones table, using a mysql connector and cursor."
   ]
  },
  {
   "cell_type": "code",
   "execution_count": 1,
   "metadata": {},
   "outputs": [
    {
     "name": "stdout",
     "output_type": "stream",
     "text": [
      "171\n",
      "Data scarpped!\n"
     ]
    }
   ],
   "source": [
    "import bs4\n",
    "from time import sleep\n",
    "from selenium import webdriver\n",
    "from selenium.webdriver.common.keys import Keys\n",
    "from selenium.webdriver.firefox.options import Options\n",
    "from selenium import webdriver\n",
    "from selenium.webdriver.common.by import By\n",
    "from selenium.webdriver.support.ui import WebDriverWait\n",
    "from selenium.webdriver.support import expected_conditions as EC\n",
    "import requests\n",
    "\n",
    "\n",
    "\n",
    "base_url = 'https://www.komplett.dk/category/21064/mobil/mobiltelefoner'\n",
    "profile = webdriver.FirefoxProfile()\n",
    "profile.set_preference(\"general.useragent.override\", \"Mozilla/5.0 (X11; Ubuntu; Linux x86_64; rv:81.0) Gecko/20100101 Firefox/81.0\")\n",
    "\n",
    "# headless would be needed here if we did not have a GUI version of firefox\n",
    "options = Options()\n",
    "options.headless = True\n",
    "# driver = webdriver.Firefox(options=options, executable_path=r'/tmp/geckodriver')\n",
    "browser = webdriver.Firefox(options=options)\n",
    "\n",
    "browser.get(base_url)\n",
    "browser.implicitly_wait(3)\n",
    "\n",
    "cellphones=[]\n",
    "\n",
    "\n",
    "def get_cellphones():\n",
    "    ''' clicks on cookie buttons and reads all product elements'''\n",
    "        \n",
    "    '''Pagaes loads dynamicly, so ve should scrall to the bottom and read current url insted of using the one belov (?)'''\n",
    "    \n",
    "    \n",
    "    url='https://www.komplett.dk/category/21064/mobil/?nlevel=10444%C2%A721064&hits=192'\n",
    "    try:\n",
    "        cookie_button = browser.find_element_by_css_selector('button.btn-large.primary')\n",
    "        #print('Cookie Button', cookie_button)\n",
    "        try:\n",
    "            cookie_button.click()\n",
    "            sleep(3)\n",
    "        except Exception as ex:\n",
    "            print(ex)\n",
    "    except Exception as e:\n",
    "        print('BUTTON EXCEPTION',e) \n",
    "      \n",
    "    \n",
    "    #span.product-price-now\n",
    "        \n",
    "    r = requests.get(url)\n",
    "    r.raise_for_status()\n",
    "    soup = bs4.BeautifulSoup(r.text, 'html.parser')   \n",
    "\n",
    "    results=soup.select('.content-block')\n",
    "    print(len(results))\n",
    "    \n",
    "    for mobile in results:\n",
    "        read_mobile_details(mobile)\n",
    "    \n",
    "    print(\"Data scarpped!\")\n",
    "    \n",
    "    \n",
    "    \n",
    "def read_mobile_details(mobile):\n",
    "    cell_phone={}\n",
    "  \n",
    "    price=mobile.select('.product-price-now')\n",
    "    price_string=\"\"\n",
    "    \n",
    "    for p in price:\n",
    "        price_string=p.get_text()\n",
    "        \n",
    "    clean_price_str=price_string.split(',')[0].replace('.','').strip()\n",
    "   \n",
    "    p_list=list(clean_price_str)\n",
    "    price_final=-1\n",
    "    \n",
    "    if (clean_price_str != \"\"):\n",
    "        price_final=int(clean_price_str)\n",
    "        \n",
    "        \n",
    "    cell_phone['price']=int(price_final)\n",
    "    \n",
    "    _name=\"undefined\"\n",
    "    name=mobile.select('.text-content > h2')\n",
    "    for n in name:\n",
    "        _name=n.get_text()\n",
    "    \n",
    "    \n",
    "    cell_phone['name']=_name\n",
    "    \n",
    "    \n",
    "    \n",
    "    cellphones.append(cell_phone)\n",
    "\n",
    " \n",
    "                            \n",
    "get_cellphones()      \n",
    "\n",
    "\n"
   ]
  },
  {
   "cell_type": "code",
   "execution_count": 79,
   "metadata": {},
   "outputs": [],
   "source": [
    "# dataframe to table\n",
    "import pandas as pd \n",
    "from sqlalchemy import create_engine #sqlalchemy helped convert strings to dates seamlessly\n",
    "\n",
    "#cnx = pymysql.connect(user='dev', password='ax2',host='127.0.0.1',port=3307,db='test') \n",
    "con_str = \"mysql+mysqlconnector://root:root@db/db\"\n",
    "engine = create_engine(con_str)\n",
    "#connection = engine.raw_connection()\n",
    "df = pd.DataFrame(cellphones)\n",
    "df = df.applymap(str)#every valu to String\n",
    "df.to_sql('cellphones',con=engine, if_exists='append', index = True)\n"
   ]
  },
  {
   "cell_type": "code",
   "execution_count": 4,
   "metadata": {},
   "outputs": [
    {
     "name": "stdout",
     "output_type": "stream",
     "text": [
      "done\n"
     ]
    }
   ],
   "source": [
    "import mysql.connector as mysql\n",
    "\n",
    "cnx = mysql.connect(host = \"db\", user = \"root\", passwd = \"root\", db = \"db\")\n",
    "\n",
    "cursor = cnx.cursor()\n",
    "drop_query=('DROP TABLE IF EXISTS cell_cursor;')\n",
    "table_query='create table cell_cursor( cell_id int not null auto_increment, name varchar(100) not null, price int, primary key(cell_id));'\n",
    "\n",
    "cursor.execute(drop_query)\n",
    "cursor.execute(table_query)\n",
    "\n",
    "\n",
    "            #Insted of looping thrugh the list, append to the query string\n",
    "insert_query='INSERT INTO cell_cursor VALUES(%(cell_id)s,%(name)s,%(price)s)'\n",
    "for c in cellphones:\n",
    "    c['cell_id']=None\n",
    "    cursor.execute(insert_query,c)\n",
    "\n",
    "\n",
    "cnx.commit()\n",
    "cursor.close()\n",
    "cnx.close()\n",
    "    \n",
    "print('Data saved in db')\n",
    "\n",
    "\n"
   ]
  },
  {
   "cell_type": "markdown",
   "metadata": {},
   "source": [
    "## 04 Solution part 2\n",
    "    1. Create a restful webservice that can respond to the following requests, by collecting/adding data from the cellphones table:\n",
    "Method    URL    Response    Description\n",
    "\n",
    "GET    /api/cellphones/all    [{\"id\":1, \"name\":\"Samsung Galaxy S20\", \"price\":5999},{},{}...]    Returns all the cellphone objects from the database\n",
    "\n",
    "POST    /api/cellphones    POST json: {\"name\":\"One Plus\", \"price\":12345}    Adds a new cellphone object to the database"
   ]
  },
  {
   "cell_type": "code",
   "execution_count": 3,
   "metadata": {},
   "outputs": [
    {
     "ename": "ModuleNotFoundError",
     "evalue": "No module named 'facade'",
     "output_type": "error",
     "traceback": [
      "\u001b[0;31m---------------------------------------------------------------------------\u001b[0m",
      "\u001b[0;31mModuleNotFoundError\u001b[0m                       Traceback (most recent call last)",
      "\u001b[0;32m<ipython-input-3-6d09e3a67a1a>\u001b[0m in \u001b[0;36m<module>\u001b[0;34m\u001b[0m\n\u001b[1;32m      1\u001b[0m \u001b[0;31m#see week8 directory\u001b[0m\u001b[0;34m\u001b[0m\u001b[0;34m\u001b[0m\u001b[0;34m\u001b[0m\u001b[0m\n\u001b[0;32m----> 2\u001b[0;31m \u001b[0;32mimport\u001b[0m \u001b[0mweek8\u001b[0m\u001b[0;34m.\u001b[0m\u001b[0mapp\u001b[0m \u001b[0;32mas\u001b[0m \u001b[0mapp\u001b[0m\u001b[0;34m\u001b[0m\u001b[0;34m\u001b[0m\u001b[0m\n\u001b[0m\u001b[1;32m      3\u001b[0m \u001b[0;34m\u001b[0m\u001b[0m\n\u001b[1;32m      4\u001b[0m \u001b[0mapp\u001b[0m\u001b[0;34m.\u001b[0m\u001b[0mstart\u001b[0m\u001b[0;34m(\u001b[0m\u001b[0;34m)\u001b[0m\u001b[0;34m\u001b[0m\u001b[0;34m\u001b[0m\u001b[0m\n\u001b[1;32m      5\u001b[0m \u001b[0;34m\u001b[0m\u001b[0m\n",
      "\u001b[0;32m~/sandbox/python_hand_in/week8/app.py\u001b[0m in \u001b[0;36m<module>\u001b[0;34m\u001b[0m\n\u001b[0;32m----> 1\u001b[0;31m \u001b[0;32mimport\u001b[0m \u001b[0mweek8\u001b[0m\u001b[0;34m.\u001b[0m\u001b[0mphone_server\u001b[0m\u001b[0;34m\u001b[0m\u001b[0;34m\u001b[0m\u001b[0m\n\u001b[0m\u001b[1;32m      2\u001b[0m \u001b[0;34m\u001b[0m\u001b[0m\n\u001b[1;32m      3\u001b[0m \u001b[0;34m\u001b[0m\u001b[0m\n\u001b[1;32m      4\u001b[0m \u001b[0;34m\u001b[0m\u001b[0m\n\u001b[1;32m      5\u001b[0m \u001b[0;32mdef\u001b[0m \u001b[0mstart\u001b[0m\u001b[0;34m(\u001b[0m\u001b[0;34m)\u001b[0m\u001b[0;34m:\u001b[0m\u001b[0;34m\u001b[0m\u001b[0;34m\u001b[0m\u001b[0m\n",
      "\u001b[0;32m~/sandbox/python_hand_in/week8/phone_server.py\u001b[0m in \u001b[0;36m<module>\u001b[0;34m\u001b[0m\n\u001b[1;32m      2\u001b[0m \u001b[0;32mfrom\u001b[0m \u001b[0mflask\u001b[0m \u001b[0;32mimport\u001b[0m \u001b[0mrender_template\u001b[0m\u001b[0;34m\u001b[0m\u001b[0;34m\u001b[0m\u001b[0m\n\u001b[1;32m      3\u001b[0m \u001b[0;32mfrom\u001b[0m \u001b[0mflask\u001b[0m \u001b[0;32mimport\u001b[0m \u001b[0mFlask\u001b[0m\u001b[0;34m,\u001b[0m \u001b[0mjsonify\u001b[0m\u001b[0;34m,\u001b[0m \u001b[0mabort\u001b[0m\u001b[0;34m,\u001b[0m \u001b[0mrequest\u001b[0m\u001b[0;34m\u001b[0m\u001b[0;34m\u001b[0m\u001b[0m\n\u001b[0;32m----> 4\u001b[0;31m \u001b[0;32mimport\u001b[0m \u001b[0mfacade\u001b[0m\u001b[0;34m\u001b[0m\u001b[0;34m\u001b[0m\u001b[0m\n\u001b[0m\u001b[1;32m      5\u001b[0m \u001b[0;34m\u001b[0m\u001b[0m\n\u001b[1;32m      6\u001b[0m \u001b[0;34m\u001b[0m\u001b[0m\n",
      "\u001b[0;31mModuleNotFoundError\u001b[0m: No module named 'facade'"
     ]
    }
   ],
   "source": [
    "#see week8 directory\n",
    "import week8.app as app\n",
    "\n",
    "app.start()\n",
    "\n"
   ]
  }
 ],
 "metadata": {
  "kernelspec": {
   "display_name": "Python 3",
   "language": "python",
   "name": "python3"
  },
  "language_info": {
   "codemirror_mode": {
    "name": "ipython",
    "version": 3
   },
   "file_extension": ".py",
   "mimetype": "text/x-python",
   "name": "python",
   "nbconvert_exporter": "python",
   "pygments_lexer": "ipython3",
   "version": "3.7.6"
  }
 },
 "nbformat": 4,
 "nbformat_minor": 4
}
