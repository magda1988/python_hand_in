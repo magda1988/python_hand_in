{
 "cells": [
  {
   "cell_type": "markdown",
   "metadata": {},
   "source": [
    "# Week 1 handin"
   ]
  },
  {
   "cell_type": "markdown",
   "metadata": {},
   "source": [
    "## 01 Assignment\n",
    "## Exercise\n",
    "\n",
    "1. Create 5 list comprehensions to solve the following 5 problems:\n",
    "  1. Iterate a list of names to return a list of the names starting with H\n",
    "  2. In one line create a list of the numbers 1-100 to the power of 3\n",
    "  3. Iterate a list of names to create a list of tuples where the tuples first value is the length of the name and the second is the name\n",
    "  4. Iterate over each character in a string and get only those that are nummeric\n",
    "  5. Using only a list comprehension wrapped in set() get all possible combination from throwing 2 dice (hint use 2 for loops in a single list comprehension)\n",
    "\n",
    "2. Create 2 dictionary comprehensions to solve the following:\n",
    "  1. Iterate a list of names and create a dictionary where key is the name and value is the length of the name\n",
    "  2. Iterate a list of numbers and create a dictionary with {key:value} being {number:squareroot_of_number}\n",
    "\n",
    "3. Extra assignment (This one goes beyond what is covered in the course notebooks. So only do it if you want an extra challenge).\n",
    "  - Progammatically using loops create a small program to produce a dictionary with all the 2 dice throw combinations as keys and their likelyhood in percent as values"
   ]
  },
  {
   "cell_type": "markdown",
   "metadata": {},
   "source": [
    "## 02 Status\n",
    "Exercise 1.1-1.5 : completed\n",
    "Exercise 2.A, 2.B : completed\n",
    "Exercise 3 : completed"
   ]
  },
  {
   "cell_type": "markdown",
   "metadata": {},
   "source": [
    "## 03 Solution part 1\n",
    "Create 5 list comprehensions to solve the following 5 problems:"
   ]
  },
  {
   "cell_type": "code",
   "execution_count": 12,
   "metadata": {},
   "outputs": [
    {
     "data": {
      "text/plain": [
       "['Harald', 'Hilton', 'Hugo']"
      ]
     },
     "execution_count": 12,
     "metadata": {},
     "output_type": "execute_result"
    }
   ],
   "source": [
    "# 1.1 Iterate a list of names to return a list of the names starting with H\n",
    "names=['Anna', 'Maria','Harald','Nora','Hilton', 'Hugo']\n",
    "h_names=[value for value in names if value.startswith('H')]\n",
    "h_names"
   ]
  },
  {
   "cell_type": "code",
   "execution_count": 2,
   "metadata": {},
   "outputs": [
    {
     "data": {
      "text/plain": [
       "[1,\n",
       " 8,\n",
       " 27,\n",
       " 64,\n",
       " 125,\n",
       " 216,\n",
       " 343,\n",
       " 512,\n",
       " 729,\n",
       " 1000,\n",
       " 1331,\n",
       " 1728,\n",
       " 2197,\n",
       " 2744,\n",
       " 3375,\n",
       " 4096,\n",
       " 4913,\n",
       " 5832,\n",
       " 6859,\n",
       " 8000,\n",
       " 9261,\n",
       " 10648,\n",
       " 12167,\n",
       " 13824,\n",
       " 15625,\n",
       " 17576,\n",
       " 19683,\n",
       " 21952,\n",
       " 24389,\n",
       " 27000,\n",
       " 29791,\n",
       " 32768,\n",
       " 35937,\n",
       " 39304,\n",
       " 42875,\n",
       " 46656,\n",
       " 50653,\n",
       " 54872,\n",
       " 59319,\n",
       " 64000,\n",
       " 68921,\n",
       " 74088,\n",
       " 79507,\n",
       " 85184,\n",
       " 91125,\n",
       " 97336,\n",
       " 103823,\n",
       " 110592,\n",
       " 117649,\n",
       " 125000,\n",
       " 132651,\n",
       " 140608,\n",
       " 148877,\n",
       " 157464,\n",
       " 166375,\n",
       " 175616,\n",
       " 185193,\n",
       " 195112,\n",
       " 205379,\n",
       " 216000,\n",
       " 226981,\n",
       " 238328,\n",
       " 250047,\n",
       " 262144,\n",
       " 274625,\n",
       " 287496,\n",
       " 300763,\n",
       " 314432,\n",
       " 328509,\n",
       " 343000,\n",
       " 357911,\n",
       " 373248,\n",
       " 389017,\n",
       " 405224,\n",
       " 421875,\n",
       " 438976,\n",
       " 456533,\n",
       " 474552,\n",
       " 493039,\n",
       " 512000,\n",
       " 531441,\n",
       " 551368,\n",
       " 571787,\n",
       " 592704,\n",
       " 614125,\n",
       " 636056,\n",
       " 658503,\n",
       " 681472,\n",
       " 704969,\n",
       " 729000,\n",
       " 753571,\n",
       " 778688,\n",
       " 804357,\n",
       " 830584,\n",
       " 857375,\n",
       " 884736,\n",
       " 912673,\n",
       " 941192,\n",
       " 970299]"
      ]
     },
     "execution_count": 2,
     "metadata": {},
     "output_type": "execute_result"
    }
   ],
   "source": [
    "# 1.2 In one line create a list of the numbers 1-100 to the power of 3\n",
    "numbers_list=[value**3 for value in range(1,100)]\n",
    "numbers_list"
   ]
  },
  {
   "cell_type": "code",
   "execution_count": 3,
   "metadata": {},
   "outputs": [
    {
     "data": {
      "text/plain": [
       "[(4, 'Anna'),\n",
       " (5, 'Maria'),\n",
       " (6, 'Harald'),\n",
       " (4, 'Nora'),\n",
       " (6, 'Hilton'),\n",
       " (4, 'Hugo')]"
      ]
     },
     "execution_count": 3,
     "metadata": {},
     "output_type": "execute_result"
    }
   ],
   "source": [
    "# 1.3 Iterate a list of names to create a list of tuples \n",
    "#     where the tuples first value is the length of the name \n",
    "#     and the second is the name\n",
    "\n",
    "tuple_list=[(len(name),name) for name in names]\n",
    "tuple_list\n"
   ]
  },
  {
   "cell_type": "code",
   "execution_count": 4,
   "metadata": {},
   "outputs": [
    {
     "data": {
      "text/plain": [
       "['6',\n",
       " '7',\n",
       " '8',\n",
       " '9',\n",
       " '8',\n",
       " '7',\n",
       " '5',\n",
       " '6',\n",
       " '7',\n",
       " '8',\n",
       " '8',\n",
       " '9',\n",
       " '8',\n",
       " '4',\n",
       " '1',\n",
       " '6',\n",
       " '5',\n",
       " '4',\n",
       " '1',\n",
       " '3']"
      ]
     },
     "execution_count": 4,
     "metadata": {},
     "output_type": "execute_result"
    }
   ],
   "source": [
    "# 1.4. Iterate over each character in a string and get only those that are nummeric\n",
    "\n",
    "init_string='xertd678g987gbygf5678yhnjhvv89 iuitg8 4165413 hiukj'\n",
    "numeric=[char for char in init_string if char.isnumeric()]\n",
    "numeric\n"
   ]
  },
  {
   "cell_type": "code",
   "execution_count": 5,
   "metadata": {},
   "outputs": [
    {
     "name": "stdout",
     "output_type": "stream",
     "text": [
      "When order does not matter:\n",
      "{(1, 3), (6, 6), (5, 6), (1, 6), (2, 5), (1, 2), (3, 3), (5, 5), (4, 4), (1, 5), (3, 6), (2, 2), (1, 1), (2, 6), (4, 5), (1, 4), (2, 3), (3, 5), (4, 6), (3, 4), (2, 4)}\n",
      "\n",
      "When order do matter:\n",
      "{(1, 3), (6, 6), (5, 6), (2, 1), (6, 2), (1, 6), (5, 1), (2, 5), (1, 2), (3, 3), (5, 5), (4, 4), (6, 3), (1, 5), (3, 6), (2, 2), (4, 1), (1, 1), (6, 4), (3, 2), (2, 6), (5, 4), (4, 5), (5, 2), (1, 4), (2, 3), (4, 2), (6, 5), (3, 5), (5, 3), (4, 6), (6, 1), (3, 1), (4, 3), (3, 4), (2, 4)}\n"
     ]
    }
   ],
   "source": [
    "# 1.5 Using only a list comprehension wrapped in set() get all possible\n",
    "#     combination from throwing 2 dice (hint use 2 for loops in a single list comprehension)\n",
    "combination=set([(x,y) for x in range(1,7) for y in range(1,7) if x<=y])\n",
    "print('When order does not matter:')\n",
    "print(combination)\n",
    "print('\\nWhen order do matter:')\n",
    "combination_1=set([(x,y) for x in range(1,7) for y in range(1,7) ])\n",
    "print(combination_1)"
   ]
  },
  {
   "cell_type": "markdown",
   "metadata": {},
   "source": [
    "## 04 Solution part 2\n",
    "Create 2 dictionary comprehensions to solve the following:"
   ]
  },
  {
   "cell_type": "code",
   "execution_count": 33,
   "metadata": {},
   "outputs": [
    {
     "data": {
      "text/plain": [
       "{'Anna': 4, 'Maria': 5, 'Harald': 6, 'Nora': 4, 'Hilton': 6, 'Hugo': 4}"
      ]
     },
     "execution_count": 33,
     "metadata": {},
     "output_type": "execute_result"
    }
   ],
   "source": [
    "# 2.A Iterate a list of names and create a dictionary where key is the name and value is the length of the name\n",
    "\n",
    "name_length={name:len(name) for name in names}\n",
    "name_length"
   ]
  },
  {
   "cell_type": "code",
   "execution_count": 34,
   "metadata": {},
   "outputs": [
    {
     "data": {
      "text/plain": [
       "{1: 1, 8: 64, -4: 16, 25: 625, 0: 0, -5: 25}"
      ]
     },
     "execution_count": 34,
     "metadata": {},
     "output_type": "execute_result"
    }
   ],
   "source": [
    "#   2.B  Iterate a list of numbers and create a dictionary with {key:value} being {number:squareroot_of_number}\n",
    "numbers=[1,8,-4,25,0,-5]\n",
    "squareroos={number:number**2 for number in numbers}\n",
    "squareroos\n"
   ]
  },
  {
   "cell_type": "markdown",
   "metadata": {},
   "source": [
    "## 05 Solution part 3\n",
    "Progammatically using loops create a small program to produce a dictionary with all the 2 dice throw combinations as keys and their likelyhood in percent as values"
   ]
  },
  {
   "cell_type": "code",
   "execution_count": 84,
   "metadata": {},
   "outputs": [
    {
     "data": {
      "text/plain": [
       "{2: '2.7777777777777777 %',\n",
       " 3: '5.555555555555555 %',\n",
       " 4: '8.333333333333332 %',\n",
       " 5: '11.11111111111111 %',\n",
       " 6: '13.88888888888889 %',\n",
       " 7: '16.666666666666664 %',\n",
       " 8: '13.88888888888889 %',\n",
       " 9: '11.11111111111111 %',\n",
       " 10: '8.333333333333332 %',\n",
       " 11: '5.555555555555555 %',\n",
       " 12: '2.7777777777777777 %'}"
      ]
     },
     "execution_count": 84,
     "metadata": {},
     "output_type": "execute_result"
    }
   ],
   "source": [
    "#https://statweb.stanford.edu/~susan/courses/s60/split/node65.html\n",
    "\n",
    "\n",
    "combinations=set([(x,y) for x in range(1,7) for y in range(1,7) ])\n",
    "total_combination={}\n",
    "\n",
    "for combo in combinations:\n",
    "    total_combination.setdefault(combo[0]+combo[1] ,0)\n",
    "    total_combination[combo[0]+combo[1]]+=1\n",
    "    \n",
    "#print(total_combination)\n",
    "key_list=list(total_combination.keys())   #otherwise I get an object dict_keys([4, 12, 11, 3, 8, 7, 6, 10, 9, 5, 2])\n",
    "#print(total_combination.keys())\n",
    "\n",
    "key_list.sort()\n",
    "\n",
    "\n",
    "total_likelyhood={}\n",
    "for key in key_list:\n",
    "    total_likelyhood[key]=str(total_combination.get(key,-1)/len(combinations)*100)+' %'\n",
    "\n",
    "total_likelyhood\n"
   ]
  }
 ],
 "metadata": {
  "kernelspec": {
   "display_name": "Python 3",
   "language": "python",
   "name": "python3"
  },
  "language_info": {
   "codemirror_mode": {
    "name": "ipython",
    "version": 3
   },
   "file_extension": ".py",
   "mimetype": "text/x-python",
   "name": "python",
   "nbconvert_exporter": "python",
   "pygments_lexer": "ipython3",
   "version": "3.7.6"
  }
 },
 "nbformat": 4,
 "nbformat_minor": 4
}
