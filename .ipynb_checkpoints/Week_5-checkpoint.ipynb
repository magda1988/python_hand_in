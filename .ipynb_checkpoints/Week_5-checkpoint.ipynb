{
 "cells": [
  {
   "cell_type": "markdown",
   "metadata": {},
   "source": [
    "# Week 5 hand in"
   ]
  },
  {
   "cell_type": "markdown",
   "metadata": {},
   "source": [
    "## 01 Assignment\n",
    "## Ex1 Use data from Danmarks Statistik - Databanken\n",
    "1. Go to https://www.dst.dk/da/Statistik/brug-statistikken/muligheder-i-statistikbanken/api#testkonsol\n",
    "2. Open 'Konsol' and click 'Start Konsol'\n",
    "3. In the console at pt 1: choose 'Retrieve tables', pt 2: choose get request and json format and pt 3: execute:\n",
    "  1. check the result\n",
    "  2. in the code below this same get request is used to get information about all available data tables in 'databanken'. \n",
    "4. Change pt. 1 in the console to 'Retrieve data', pt 2: 'get request' and Table id: 'FOLK1A', format: csv, delimiter: semicolon and click: 'Variable and value codes' and choose some sub categories (Hint: hover over the codes to see their meaning). Finally execute and see what data you get.\n",
    "5. With data aggregation and data visualization answer the following questions:\n",
    "  1. What is the change in pct of divorced danes from 2008 to 2020?\n",
    "  2. Which of the 5 biggest cities has the highest percentage of 'Never Married' in 2020?\n",
    "  3. Show a bar chart of changes in marrital status in Copenhagen from 2008 till now\n",
    "  4. Show 2 plots in same figure: 'Married' and 'Never Married' for all ages in DK in 2020 (Hint: x axis is age from 0-125, y axis is how many people in the 2 categories). Add lengend to show names on graphs\n",
    "  \n",
    "## Ex2 Use another table (extra)\n",
    "Choose any of the other tables in 'databanken' to find interesting data.\n",
    "1. Collect the data\n",
    "2. Pose 5 or more interesing questions to the data\n",
    "3. Answer the questions by aggregating the data\n",
    "4. Illustrate the answers with visual plots"
   ]
  },
  {
   "cell_type": "markdown",
   "metadata": {},
   "source": [
    "## 02 Status\n",
    "    Exercise 1,2,3,4: completed\n",
    "    Exercise 5:\n",
    "    A  completed\n",
    "    B  completed\n",
    "    C  completed\n",
    "    D not completed"
   ]
  },
  {
   "cell_type": "markdown",
   "metadata": {},
   "source": [
    "## 03 Solution part 1\n",
    "\n",
    "Saves data in file and reads from it"
   ]
  },
  {
   "cell_type": "code",
   "execution_count": 84,
   "metadata": {},
   "outputs": [
    {
     "data": {
      "text/html": [
       "<div>\n",
       "<style scoped>\n",
       "    .dataframe tbody tr th:only-of-type {\n",
       "        vertical-align: middle;\n",
       "    }\n",
       "\n",
       "    .dataframe tbody tr th {\n",
       "        vertical-align: top;\n",
       "    }\n",
       "\n",
       "    .dataframe thead th {\n",
       "        text-align: right;\n",
       "    }\n",
       "</style>\n",
       "<table border=\"1\" class=\"dataframe\">\n",
       "  <thead>\n",
       "    <tr style=\"text-align: right;\">\n",
       "      <th></th>\n",
       "      <th>ALDER</th>\n",
       "      <th>CIVILSTAND</th>\n",
       "      <th>KØN</th>\n",
       "      <th>TID</th>\n",
       "      <th>OMRÅDE</th>\n",
       "      <th>INDHOLD</th>\n",
       "    </tr>\n",
       "  </thead>\n",
       "  <tbody>\n",
       "    <tr>\n",
       "      <th>0</th>\n",
       "      <td>I alt</td>\n",
       "      <td>Ugift</td>\n",
       "      <td>I alt</td>\n",
       "      <td>2008K4</td>\n",
       "      <td>København</td>\n",
       "      <td>315545</td>\n",
       "    </tr>\n",
       "    <tr>\n",
       "      <th>1</th>\n",
       "      <td>I alt</td>\n",
       "      <td>Ugift</td>\n",
       "      <td>I alt</td>\n",
       "      <td>2008K4</td>\n",
       "      <td>Aalborg</td>\n",
       "      <td>97764</td>\n",
       "    </tr>\n",
       "    <tr>\n",
       "      <th>2</th>\n",
       "      <td>I alt</td>\n",
       "      <td>Ugift</td>\n",
       "      <td>I alt</td>\n",
       "      <td>2008K4</td>\n",
       "      <td>Aarhus</td>\n",
       "      <td>167157</td>\n",
       "    </tr>\n",
       "    <tr>\n",
       "      <th>3</th>\n",
       "      <td>I alt</td>\n",
       "      <td>Ugift</td>\n",
       "      <td>I alt</td>\n",
       "      <td>2008K4</td>\n",
       "      <td>Esbjerg</td>\n",
       "      <td>53418</td>\n",
       "    </tr>\n",
       "    <tr>\n",
       "      <th>4</th>\n",
       "      <td>I alt</td>\n",
       "      <td>Ugift</td>\n",
       "      <td>I alt</td>\n",
       "      <td>2008K4</td>\n",
       "      <td>Odense</td>\n",
       "      <td>94613</td>\n",
       "    </tr>\n",
       "    <tr>\n",
       "      <th>...</th>\n",
       "      <td>...</td>\n",
       "      <td>...</td>\n",
       "      <td>...</td>\n",
       "      <td>...</td>\n",
       "      <td>...</td>\n",
       "      <td>...</td>\n",
       "    </tr>\n",
       "    <tr>\n",
       "      <th>49525</th>\n",
       "      <td>125 år</td>\n",
       "      <td>I alt</td>\n",
       "      <td>I alt</td>\n",
       "      <td>2020K4</td>\n",
       "      <td>Aalborg</td>\n",
       "      <td>0</td>\n",
       "    </tr>\n",
       "    <tr>\n",
       "      <th>49526</th>\n",
       "      <td>125 år</td>\n",
       "      <td>I alt</td>\n",
       "      <td>I alt</td>\n",
       "      <td>2020K4</td>\n",
       "      <td>Aarhus</td>\n",
       "      <td>0</td>\n",
       "    </tr>\n",
       "    <tr>\n",
       "      <th>49527</th>\n",
       "      <td>125 år</td>\n",
       "      <td>I alt</td>\n",
       "      <td>I alt</td>\n",
       "      <td>2020K4</td>\n",
       "      <td>Esbjerg</td>\n",
       "      <td>0</td>\n",
       "    </tr>\n",
       "    <tr>\n",
       "      <th>49528</th>\n",
       "      <td>125 år</td>\n",
       "      <td>I alt</td>\n",
       "      <td>I alt</td>\n",
       "      <td>2020K4</td>\n",
       "      <td>Odense</td>\n",
       "      <td>0</td>\n",
       "    </tr>\n",
       "    <tr>\n",
       "      <th>49529</th>\n",
       "      <td>125 år</td>\n",
       "      <td>I alt</td>\n",
       "      <td>I alt</td>\n",
       "      <td>2020K4</td>\n",
       "      <td>Hele landet</td>\n",
       "      <td>0</td>\n",
       "    </tr>\n",
       "  </tbody>\n",
       "</table>\n",
       "<p>49530 rows × 6 columns</p>\n",
       "</div>"
      ],
      "text/plain": [
       "        ALDER CIVILSTAND    KØN     TID       OMRÅDE  INDHOLD\n",
       "0       I alt      Ugift  I alt  2008K4    København   315545\n",
       "1       I alt      Ugift  I alt  2008K4      Aalborg    97764\n",
       "2       I alt      Ugift  I alt  2008K4       Aarhus   167157\n",
       "3       I alt      Ugift  I alt  2008K4      Esbjerg    53418\n",
       "4       I alt      Ugift  I alt  2008K4       Odense    94613\n",
       "...       ...        ...    ...     ...          ...      ...\n",
       "49525  125 år      I alt  I alt  2020K4      Aalborg        0\n",
       "49526  125 år      I alt  I alt  2020K4       Aarhus        0\n",
       "49527  125 år      I alt  I alt  2020K4      Esbjerg        0\n",
       "49528  125 år      I alt  I alt  2020K4       Odense        0\n",
       "49529  125 år      I alt  I alt  2020K4  Hele landet        0\n",
       "\n",
       "[49530 rows x 6 columns]"
      ]
     },
     "execution_count": 84,
     "metadata": {},
     "output_type": "execute_result"
    }
   ],
   "source": [
    "import pandas as pd \n",
    "\n",
    "url = 'https://api.statbank.dk/v1/data/FOLK1A/CSV?delimiter=Semicolon&ALDER=*%2C%2CIALT&CIVILSTAND=U%2CG%2CE%2CF%2CTOT&K%C3%98N=TOT&Tid=2008K4%2C2009K4%2C2010K4%2C2011K4%2C2012K4%2C2013K4%2C2014K4%2C2015K4%2C2016K4%2C2017K4%2C2018K4%2C2019K4%2C2020K4&OMR%C3%85DE=101%2C851%2C751%2C561%2C461%2C000'\n",
    "filename='./data/dk-stat-civilstand.csv'\n",
    "dst = pd.read_csv(url)\n",
    "dst.to_csv(filename, encoding='utf-8', index=False)\n",
    "\n",
    "#cst=pd.read_csv(filename, sep=\";\",  usecols=[1,2,3,4,5])\n",
    "\n",
    "cst=pd.read_csv(filename, sep=\";\")\n",
    "cst\n",
    "\n",
    "\n"
   ]
  },
  {
   "cell_type": "markdown",
   "metadata": {},
   "source": [
    "## 04 Solution part 2\n",
    "What is the change in pct of divorced danes from 2008 to 2020?"
   ]
  },
  {
   "cell_type": "code",
   "execution_count": 188,
   "metadata": {},
   "outputs": [
    {
     "data": {
      "text/plain": [
       "[<matplotlib.lines.Line2D at 0x7f8d266eb950>]"
      ]
     },
     "execution_count": 188,
     "metadata": {},
     "output_type": "execute_result"
    },
    {
     "data": {
      "image/png": "[encoded data removed]",
      "text/plain": [
       "<Figure size 432x288 with 1 Axes>"
      ]
     },
     "metadata": {
      "needs_background": "light"
     },
     "output_type": "display_data"
    }
   ],
   "source": [
    "import matplotlib.pyplot as plt\n",
    "\n",
    "cst.sort_values(by='CIVILSTAND')\n",
    "divorced=cst[cst['CIVILSTAND'].isin(['Fraskilt']) ]\n",
    "\n",
    "divorced_all=divorced[divorced['KØN'].isin(['I alt'])]\n",
    "divorced_hele_landet=divorced_all[divorced['OMRÅDE'].isin(['Hele landet'])]\n",
    "divorced_total_dk=divorced_hele_landet[divorced_hele_landet['ALDER'].isin(['I alt'])]\n",
    "divorced_total_dk\n",
    "status=cst[cst['CIVILSTAND'].isin(['I alt'])] #shows all ages in all areas in gathered civil status\n",
    "\n",
    "status_dk=status[status['OMRÅDE'].isin(['Hele landet'])] #shows all ages for whole country in gathered civil status\n",
    "all_status_dk= status_dk[status_dk['ALDER'].isin(['I alt'])] # Shows gathered ages for whole country with gathered civil status\n",
    "st=all_status_dk.sort_values(by='TID')[['TID','INDHOLD']]\n",
    "#print('Total amount of citizens per period: \\n',st)\n",
    "dv=divorced_total_dk.sort_values(by='TID')[['TID','INDHOLD']]\n",
    "#print('\\nDivorced Citizens per period: \\n', dv)\n",
    "\n",
    "\n",
    "dvs=tuple(dv['INDHOLD'])\n",
    "total=tuple(st['INDHOLD'])\n",
    "\n",
    "pct_dv = pd.DataFrame(data=[dvs[i]/total[i]*100 for i in range(0,len(dvs))], index=st['TID'], columns=['PCT'])\n",
    "pct_dv\n",
    "\n",
    "\n",
    "plt.xticks(rotation=45, horizontalalignment='right',fontweight='light')\n",
    "plt.ylabel('Percentage of divorced Danes')\n",
    "plt.xlabel('Time')\n",
    "plt.plot(pct_dv)\n",
    "\n"
   ]
  },
  {
   "cell_type": "markdown",
   "metadata": {},
   "source": [
    "## 05 Solution part 3\n",
    "Which of the 5 biggest cities has the highest percentage of 'Never Married' in 2020?"
   ]
  },
  {
   "cell_type": "code",
   "execution_count": 184,
   "metadata": {},
   "outputs": [
    {
     "name": "stdout",
     "output_type": "stream",
     "text": [
      "{'Fraskilt', 'Ugift', 'Enke/enkemand', 'Gift/separeret', 'I alt'}\n",
      "PCT    65.489642\n",
      "Name: København, dtype: float64\n"
     ]
    }
   ],
   "source": [
    "print(set(cst['CIVILSTAND']))\n",
    "cst\n",
    "_never_merried=cst[cst['CIVILSTAND'].isin(['Ugift'])]\n",
    "never_merried=_never_merried[~_never_merried['OMRÅDE'].isin(['Hele landet'])]\n",
    "never_merried_total=never_merried[never_merried['ALDER'].isin(['I alt'])]\n",
    "never_merried_total_2020=never_merried_total[never_merried_total['TID'].isin(['2020K4'])]\n",
    "\n",
    "#total citizens with 'Ugift' st:\n",
    "nm_2020=never_merried_total_2020.sort_values(by='OMRÅDE')\n",
    "\n",
    "_all_civil=cst[cst['CIVILSTAND'].isin(['I alt'])]\n",
    "_all_civil_total=_all_civil[_all_civil['ALDER'].isin(['I alt'])]\n",
    "_all_civil_total_2020=_all_civil_total[_all_civil_total['TID'].isin(['2020K4'])]\n",
    "\n",
    "#total citizens with all civil st:\n",
    "cv_2020=_all_civil_total_2020[~_all_civil_total_2020['OMRÅDE'].isin(['Hele landet'])].sort_values(by='OMRÅDE')\n",
    "\n",
    "#print('never merried: \\n', nm_2020)\n",
    "#print('all: \\n', cv_2020)\n",
    "nm=tuple(nm_2020['INDHOLD'])\n",
    "cv=tuple(cv_2020['INDHOLD'])\n",
    "\n",
    "pct_unmerried = pd.DataFrame(data=[nm[i]/cv[i]*100 for i in range(0,len(cv_2020))], index=cv_2020['OMRÅDE'], columns=['PCT'])\n",
    "\n",
    "city_with_highest_pct=pct_unmerried.sort_values(by='PCT', ascending=False).iloc[0,:]\n",
    "\n",
    "print(city_with_highest_pct)"
   ]
  },
  {
   "cell_type": "markdown",
   "metadata": {},
   "source": [
    "## 05 Solution part 4\n",
    "Show a bar chart of changes in marrital status in Copenhagen from 2008 till now"
   ]
  },
  {
   "cell_type": "code",
   "execution_count": 247,
   "metadata": {},
   "outputs": [
    {
     "data": {
      "text/plain": [
       "<matplotlib.axes._subplots.AxesSubplot at 0x7f8d266d5150>"
      ]
     },
     "execution_count": 247,
     "metadata": {},
     "output_type": "execute_result"
    },
    {
     "data": {
      "image/png": "[encoded data removed]",
      "text/plain": [
       "<Figure size 432x288 with 1 Axes>"
      ]
     },
     "metadata": {
      "needs_background": "light"
     },
     "output_type": "display_data"
    }
   ],
   "source": [
    "cst\n",
    "TID=sorted(list(set(cst['TID'])))\n",
    "#print(TID)\n",
    "\n",
    "data_cph=cst[cst['OMRÅDE'].isin(['København'])]\n",
    "_data_cph_total_age=data_cph[data_cph['ALDER'].isin(['I alt'])]\n",
    "data_cph_total_age=_data_cph_total_age[~_data_cph_total_age['CIVILSTAND'].isin(['I alt'])]\n",
    "data_cph_total_age\n",
    "\n",
    "data_by_status={}\n",
    "\n",
    "statuses=set(data_cph_total_age['CIVILSTAND'])\n",
    "\n",
    "for st in statuses:\n",
    "    ctz=data_cph_total_age[data_cph_total_age['CIVILSTAND'].isin([st])].sort_values(by='TID')\n",
    "    #print(\"ctz:\\n\",ctz)\n",
    "    citizens=pd.Series(tuple(ctz['INDHOLD']),index=TID)\n",
    "    #print(TID.sort())\n",
    "\n",
    "    #print(\"citizens:\\n\",citizens)\n",
    "    data_by_status[st]=citizens\n",
    "\n",
    "data_by_status\n",
    "result=pd.concat(data_by_status, axis=1)\n",
    "result\n",
    "\n",
    "result.plot.bar()"
   ]
  },
  {
   "cell_type": "markdown",
   "metadata": {},
   "source": [
    "## 05 Solution part 5\n",
    "Show 2 plots in same figure: 'Married' and 'Never Married' for all ages in DK in 2020 (Hint: x axis is age from 0-125, y axis is how many people in the 2 categories). Add lengend to show names on graphs"
   ]
  },
  {
   "cell_type": "code",
   "execution_count": 303,
   "metadata": {},
   "outputs": [
    {
     "data": {
      "text/html": [
       "<div>\n",
       "<style scoped>\n",
       "    .dataframe tbody tr th:only-of-type {\n",
       "        vertical-align: middle;\n",
       "    }\n",
       "\n",
       "    .dataframe tbody tr th {\n",
       "        vertical-align: top;\n",
       "    }\n",
       "\n",
       "    .dataframe thead th {\n",
       "        text-align: right;\n",
       "    }\n",
       "</style>\n",
       "<table border=\"1\" class=\"dataframe\">\n",
       "  <thead>\n",
       "    <tr style=\"text-align: right;\">\n",
       "      <th></th>\n",
       "      <th>0</th>\n",
       "    </tr>\n",
       "  </thead>\n",
       "  <tbody>\n",
       "    <tr>\n",
       "      <th>0 år</th>\n",
       "      <td>0</td>\n",
       "    </tr>\n",
       "    <tr>\n",
       "      <th>1 år</th>\n",
       "      <td>0</td>\n",
       "    </tr>\n",
       "    <tr>\n",
       "      <th>10 år</th>\n",
       "      <td>0</td>\n",
       "    </tr>\n",
       "    <tr>\n",
       "      <th>100 år</th>\n",
       "      <td>0</td>\n",
       "    </tr>\n",
       "    <tr>\n",
       "      <th>101 år</th>\n",
       "      <td>0</td>\n",
       "    </tr>\n",
       "    <tr>\n",
       "      <th>...</th>\n",
       "      <td>...</td>\n",
       "    </tr>\n",
       "    <tr>\n",
       "      <th>95 år</th>\n",
       "      <td>0</td>\n",
       "    </tr>\n",
       "    <tr>\n",
       "      <th>96 år</th>\n",
       "      <td>0</td>\n",
       "    </tr>\n",
       "    <tr>\n",
       "      <th>97 år</th>\n",
       "      <td>0</td>\n",
       "    </tr>\n",
       "    <tr>\n",
       "      <th>98 år</th>\n",
       "      <td>0</td>\n",
       "    </tr>\n",
       "    <tr>\n",
       "      <th>99 år</th>\n",
       "      <td>0</td>\n",
       "    </tr>\n",
       "  </tbody>\n",
       "</table>\n",
       "<p>126 rows × 1 columns</p>\n",
       "</div>"
      ],
      "text/plain": [
       "        0\n",
       "0 år    0\n",
       "1 år    0\n",
       "10 år   0\n",
       "100 år  0\n",
       "101 år  0\n",
       "...    ..\n",
       "95 år   0\n",
       "96 år   0\n",
       "97 år   0\n",
       "98 år   0\n",
       "99 år   0\n",
       "\n",
       "[126 rows x 1 columns]"
      ]
     },
     "execution_count": 303,
     "metadata": {},
     "output_type": "execute_result"
    }
   ],
   "source": [
    "cst\n",
    "_ages=list(set(cst['ALDER']))\n",
    "_ages.remove('I alt')\n",
    "ages=sorted(_ages)\n",
    "#print(ages)\n",
    "all_ages_full_data_all_years=cst[cst['ALDER'].isin(ages)]\n",
    "all_ages_full_data=all_ages_full_data_all_years[all_ages_full_data_all_years['TID'].isin(['2020K4'])]\n",
    "all_ages_full_data_dk=all_ages_full_data[all_ages_full_data['OMRÅDE'].isin(['Hele landet'])]\n",
    "all_ages_full_data_dk\n",
    "\n",
    "ugift=all_ages_full_data_dk[all_ages_full_data_dk['CIVILSTAND'].isin(['Ugift'])].iloc[:,[0,5]]\n",
    "_ugift=pd.DataFrame(data=list(ugift['INDHOLD']),index=ages)\n",
    "\n",
    "gift=all_ages_full_data_dk[all_ages_full_data_dk['CIVILSTAND'].isin(['Gift/separeret'])].iloc[:,[0,5]]\n",
    "_gift=pd.DataFrame(data=list(gift['INDHOLD']),index=ages)\n",
    "\n",
    "'''\n",
    "\n",
    "plt.xticks(rotation=45, horizontalalignment='right',fontweight='light')\n",
    "plt.ylabel('citizens')\n",
    "plt.xlabel('ages')\n",
    "\n",
    "x=pd.concat([_gift,_ugift],axis=1)\n",
    "x.plot()\n",
    "_gift\n",
    "\n",
    "'''\n",
    "_gift"
   ]
  }
 ],
 "metadata": {
  "kernelspec": {
   "display_name": "Python 3",
   "language": "python",
   "name": "python3"
  },
  "language_info": {
   "codemirror_mode": {
    "name": "ipython",
    "version": 3
   },
   "file_extension": ".py",
   "mimetype": "text/x-python",
   "name": "python",
   "nbconvert_exporter": "python",
   "pygments_lexer": "ipython3",
   "version": "3.7.6"
  }
 },
 "nbformat": 4,
 "nbformat_minor": 4
}
