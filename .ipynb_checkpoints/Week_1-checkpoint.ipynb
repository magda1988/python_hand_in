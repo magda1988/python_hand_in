{
 "cells": [
  {
   "cell_type": "markdown",
   "metadata": {},
   "source": [
    "# Week 1 handin"
   ]
  },
  {
   "cell_type": "markdown",
   "metadata": {},
   "source": [
    "## 01 Assignment\n",
    "## Exercise\n",
    "\n",
    "1. Create 5 list comprehensions to solve the following 5 problems:\n",
    "  1. Iterate a list of names to return a list of the names starting with H\n",
    "  2. In one line create a list of the numbers 1-100 to the power of 3\n",
    "  3. Iterate a list of names to create a list of tuples where the tuples first value is the length of the name and the second is the name\n",
    "  4. Iterate over each character in a string and get only those that are nummeric\n",
    "  5. Using only a list comprehension wrapped in set() get all possible combination from throwing 2 dice (hint use 2 for loops in a single list comprehension)\n",
    "\n",
    "2. Create 2 dictionary comprehensions to solve the following:\n",
    "  1. Iterate a list of names and create a dictionary where key is the name and value is the length of the name\n",
    "  2. Iterate a list of numbers and create a dictionary with {key:value} being {number:squareroot_of_number}\n",
    "\n",
    "3. Extra assignment (This one goes beyond what is covered in the course notebooks. So only do it if you want an extra challenge).\n",
    "  - Progammatically using loops create a small program to produce a dictionary with all the 2 dice throw combinations as keys and their likelyhood in percent as values"
   ]
  },
  {
   "cell_type": "markdown",
   "metadata": {},
   "source": [
    "## 02 Status\n",
    "Exercise 1.1-1.5 : completed\n",
    "Exercise 2.A, 2.B : completed\n",
    "Exercise 3 : completed"
   ]
  },
  {
   "cell_type": "markdown",
   "metadata": {},
   "source": [
    "## 03 Solution part 1\n",
    "Create 5 list comprehensions to solve the following 5 problems:"
   ]
  },
  {
   "cell_type": "code",
   "execution_count": 20,
   "metadata": {},
   "outputs": [],
   "source": [
    "# 1.1 Iterate a list of names to return a list of the names starting with H\n",
    "names=['Anna', 'Maria','Harald','Nora','Hilton', 'Hugo']\n",
    "h_names=[value for value in names if value[0]=='H']\n",
    "h_names"
   ]
  },
  {
   "cell_type": "code",
   "execution_count": 19,
   "metadata": {},
   "outputs": [],
   "source": [
    "# 1.2 In one line create a list of the numbers 1-100 to the power of 3\n",
    "numbers_list=[value**3 for value in range(1,100)]\n",
    "numbers_list"
   ]
  },
  {
   "cell_type": "code",
   "execution_count": 21,
   "metadata": {},
   "outputs": [],
   "source": [
    "# 1.3 Iterate a list of names to create a list of tuples \n",
    "#     where the tuples first value is the length of the name \n",
    "#     and the second is the name\n",
    "\n",
    "tuple_list=[(len(name),name) for name in names]\n",
    "tuple_list\n"
   ]
  },
  {
   "cell_type": "code",
   "execution_count": 22,
   "metadata": {},
   "outputs": [],
   "source": [
    "# 1.4. Iterate over each character in a string and get only those that are nummeric\n",
    "\n",
    "init_string='xertd678g987gbygf5678yhnjhvv89 iuitg8 4165413 hiukj'\n",
    "numeric=[char for char in init_string if char.isnumeric()]\n",
    "numeric\n"
   ]
  },
  {
   "cell_type": "code",
   "execution_count": 49,
   "metadata": {},
   "outputs": [],
   "source": [
    "# 1.5 Using only a list comprehension wrapped in set() get all possible\n",
    "#     combination from throwing 2 dice (hint use 2 for loops in a single list comprehension)\n",
    "combination=set([(x,y) for x in range(1,7) for y in range(1,7) if x<=y])\n",
    "print('When order does not matter:')\n",
    "print(combination)\n",
    "print('\\nWhen order do matter:')\n",
    "combination_1=set([(x,y) for x in range(1,7) for y in range(1,7) ])\n",
    "print(combination_1)"
   ]
  },
  {
   "cell_type": "markdown",
   "metadata": {},
   "source": [
    "## 04 Solution part 2\n",
    "Create 2 dictionary comprehensions to solve the following:"
   ]
  },
  {
   "cell_type": "code",
   "execution_count": 33,
   "metadata": {},
   "outputs": [
    {
     "data": {
      "text/plain": [
       "{'Anna': 4, 'Maria': 5, 'Harald': 6, 'Nora': 4, 'Hilton': 6, 'Hugo': 4}"
      ]
     },
     "execution_count": 33,
     "metadata": {},
     "output_type": "execute_result"
    }
   ],
   "source": [
    "# 2.A Iterate a list of names and create a dictionary where key is the name and value is the length of the name\n",
    "\n",
    "name_length={name:len(name) for name in names}\n",
    "name_length"
   ]
  },
  {
   "cell_type": "code",
   "execution_count": 34,
   "metadata": {},
   "outputs": [
    {
     "data": {
      "text/plain": [
       "{1: 1, 8: 64, -4: 16, 25: 625, 0: 0, -5: 25}"
      ]
     },
     "execution_count": 34,
     "metadata": {},
     "output_type": "execute_result"
    }
   ],
   "source": [
    "#   2.B  Iterate a list of numbers and create a dictionary with {key:value} being {number:squareroot_of_number}\n",
    "numbers=[1,8,-4,25,0,-5]\n",
    "squareroos={number:number**2 for number in numbers}\n",
    "squareroos\n"
   ]
  },
  {
   "cell_type": "markdown",
   "metadata": {},
   "source": [
    "## 05 Solution part 3\n",
    "Progammatically using loops create a small program to produce a dictionary with all the 2 dice throw combinations as keys and their likelyhood in percent as values"
   ]
  },
  {
   "cell_type": "code",
   "execution_count": 83,
   "metadata": {},
   "outputs": [
    {
     "data": {
      "text/plain": [
       "{2: '2.7777777777777777%',\n",
       " 3: '5.555555555555555%',\n",
       " 4: '8.333333333333332%',\n",
       " 5: '11.11111111111111%',\n",
       " 6: '13.88888888888889%',\n",
       " 7: '16.666666666666664%',\n",
       " 8: '13.88888888888889%',\n",
       " 9: '11.11111111111111%',\n",
       " 10: '8.333333333333332%',\n",
       " 11: '5.555555555555555%',\n",
       " 12: '2.7777777777777777%'}"
      ]
     },
     "execution_count": 83,
     "metadata": {},
     "output_type": "execute_result"
    }
   ],
   "source": [
    "combinations=set([(x,y) for x in range(1,7) for y in range(1,7) ])\n",
    "total_combination={}\n",
    "\n",
    "for combo in combinations:\n",
    "    total_combination.setdefault(combo[0]+combo[1] ,0)\n",
    "    total_combination[combo[0]+combo[1]]+=1\n",
    "    \n",
    "#print(total_combination)\n",
    "key_list=list(total_combination.keys())   #otherwise I get an object dict_keys([4, 12, 11, 3, 8, 7, 6, 10, 9, 5, 2])\n",
    "#print(total_combination.keys())\n",
    "\n",
    "key_list.sort()\n",
    "#key_list_sum=sum(total_combination.values())\n",
    "#print(key_list_sum)\n",
    "\n",
    "\n",
    "total_likelyhood={}\n",
    "for key in key_list:\n",
    "    total_likelyhood[key]=str(total_combination.get(key,-1)/len(combinations)*100)+'%'\n",
    "\n",
    "total_likelyhood\n"
   ]
  }
 ],
 "metadata": {
  "kernelspec": {
   "display_name": "Python 3",
   "language": "python",
   "name": "python3"
  },
  "language_info": {
   "codemirror_mode": {
    "name": "ipython",
    "version": 3
   },
   "file_extension": ".py",
   "mimetype": "text/x-python",
   "name": "python",
   "nbconvert_exporter": "python",
   "pygments_lexer": "ipython3",
   "version": "3.7.6"
  }
 },
 "nbformat": 4,
 "nbformat_minor": 4
}
